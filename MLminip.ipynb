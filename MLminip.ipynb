import pandas as pd

df = pd.read_csv('snu_friendship.csv')
display(df.head())
display(df.info())

selected_features = df[['Dietary Preference', 'Eating Out Per week', 'Age', 'Fashion spend per month(in-inr)\nProvide values in integer   between (0-2000 numeric)', 'Food Budget per meal Note: Provide integer value for eg like-199']]

# Check for missing values
print("Missing values before handling:")
print(selected_features.isnull().sum())

# Handle missing values (no missing values based on df.info() from previous step)
# If there were missing values, common strategies include imputation (mean, median, mode) or dropping rows.

# Identify categorical features
categorical_features = ['Dietary Preference', 'Age']

# Apply one-hot encoding to categorical features
encoded_features = pd.get_dummies(selected_features, columns=categorical_features, drop_first=True)

# Display the first few rows of the prepared data
display(encoded_features.head())

# Store the prepared features and target
X = encoded_features.drop('Food Budget per meal Note: Provide integer value for eg like-199', axis=1)
y = encoded_features['Food Budget per meal Note: Provide integer value for eg like-199']

print("\nPrepared Features (X) shape:", X.shape)
print("Target (y) shape:", y.shape)


# Make predictions on the testing data
y_pred = model.predict(X_test)

# Display the first few predicted values
print("First 5 predicted meal budgets:")
print(y_pred[:5])


from sklearn.metrics import mean_squared_error, mean_absolute_error, r2_score
import numpy as np

# Make predictions on the test data
y_pred = model.predict(X_test)

# Calculate evaluation metrics
rmse = np.sqrt(mean_squared_error(y_test, y_pred))
mae = mean_absolute_error(y_test, y_pred)
r2 = r2_score(y_test, y_pred)

# Print the results
print(f"Root Mean Squared Error (RMSE): {rmse}")
print(f"Mean Absolute Error (MAE): {mae}")
print(f"R-squared (R²): {r2}")


import numpy as np

# Define a function to convert the fashion spend string to a numeric value
def clean_fashion_spend(spend):
    try:
        return float(spend)
    except ValueError:
        if '-' in str(spend):
            try:
                low, high = map(float, str(spend).split('-'))
                return (low + high) / 2
            except ValueError:
                return np.nan
        elif 'rs' in str(spend).lower():
             try:
                 return float(str(spend).lower().replace('rs', '').replace('-', '').strip())
             except ValueError:
                 return np.nan
        else:
            return np.nan

# Apply the cleaning function to the 'Fashion spend per month...' column in both training and testing sets
fashion_column = 'Fashion spend per month(in-inr)\nProvide values in integer   between (0-2000 numeric)'
X_train[fashion_column] = X_train[fashion_column].apply(clean_fashion_spend)
X_test[fashion_column] = X_test[fashion_column].apply(clean_fashion_spend)

# Impute the missing values with the median of the training set
median_fashion_spend = X_train[fashion_column].median()
X_train[fashion_column].fillna(median_fashion_spend, inplace=True)
X_test[fashion_column].fillna(median_fashion_spend, inplace=True)


# Now train the Linear Regression model again
model = LinearRegression()
model.fit(X_train, y_train)

print("Model training complete after data cleaning and imputation.")


# Inspect the data types of the features in X_train
print(X_train.info())

# Inspect the unique values in the column causing the error
print(X_train['Fashion spend per month(in-inr)\nProvide values in integer   between (0-2000 numeric)'].unique())


from sklearn.linear_model import LinearRegression

# Instantiate the Linear Regression model
model = LinearRegression()

# Train the model on the training data
model.fit(X_train, y_train)

print("Model training complete.")


from sklearn.model_selection import train_test_split

X_train, X_test, y_train, y_test = train_test_split(X, y, test_size=0.2, random_state=42)

print("X_train shape:", X_train.shape)
print("X_test shape:", X_test.shape)
print("y_train shape:", y_train.shape)
print("y_test shape:", y_test.shape)



print(df.columns.tolist())


selected_features = df[['Dietary Preference', 'Eating Out Per week', 'Age', 'Fashion spend per month(in-inr)\nProvide values in integer   between (0-2000 numeric)', 'Food Budget per meal Note: Provide integer value for eg like-199']]

# Check for missing values
print("Missing values before handling:")
print(selected_features.isnull().sum())

# Identify categorical features
categorical_features = ['Dietary Preference', 'Age']

# Apply one-hot encoding to categorical features
encoded_features = pd.get_dummies(selected_features, columns=categorical_features, drop_first=True)

# Display the first few rows of the prepared data
display(encoded_features.head())

# Store the prepared features and target
X = encoded_features.drop('Food Budget per meal Note: Provide integer value for eg like-199', axis=1)
y = encoded_features['Food Budget per meal Note: Provide integer value for eg like-199']

print("\nPrepared Features (X) shape:", X.shape)
print("Target (y) shape:", y.shape)

from sklearn.model_selection import train_test_split

X_train, X_test, y_train, y_test = train_test_split(X, y, test_size=0.2, random_state=42)

print("X_train shape:", X_train.shape)
print("X_test shape:", X_test.shape)
print("y_train shape:", y_train.shape)
print("y_test shape:", y_test.shape)



# The model training is now handled after the data cleaning step in a subsequent cell.
# This cell is no longer needed for training.


# Inspect the data types of the features in X_train
print(X_train.info())

# Inspect the unique values in the column causing the error
print(X_train['Fashion spend per month(in-inr)\nProvide values in integer   between (0-2000 numeric)'].unique())



import numpy as np

# Define a function to convert the fashion spend string to a numeric value
def clean_fashion_spend(spend):
    try:
        return float(spend)
    except ValueError:
        spend_str = str(spend).lower().strip()
        if '-' in spend_str:
            try:
                # Handle ranges like '400-500' or '1000-2000' or '500 - 1000 rs'
                parts = spend_str.replace('rs', '').replace(' ', '').split('-')
                if len(parts) == 2:
                    low, high = float(parts[0]), float(parts[1])
                    return (low + high) / 2
                else:
                    return np.nan # Handle unexpected formats with '-'
            except ValueError:
                return np.nan # Handle cases where parts are not valid floats
        elif 'rs' in spend_str:
             try:
                 return float(spend_str.replace('rs', '').strip())
             except ValueError:
                 return np.nan # Handle cases where 'rs' is present but not a valid number
        else:
            return np.nan # Handle all other non-numeric cases

# Apply the cleaning function to the 'Fashion spend per month...' column in both training and testing sets
fashion_column = 'Fashion spend per month(in-inr)\nProvide values in integer   between (0-2000 numeric)'
X_train[fashion_column] = X_train[fashion_column].apply(clean_fashion_spend)
X_test[fashion_column] = X_test[fashion_column].apply(clean_fashion_spend)

# Impute the missing values with the median of the training set
median_fashion_spend = X_train[fashion_column].median()
X_train[fashion_column].fillna(median_fashion_spend, inplace=True)
X_test[fashion_column].fillna(median_fashion_spend, inplace=True)


# Now train the Linear Regression model again
model = LinearRegression()
model.fit(X_train, y_train)

print("Model training complete after data cleaning and imputation.")


from sklearn.metrics import mean_squared_error, mean_absolute_error, r2_score
import numpy as np

# Make predictions on the test data
y_pred = model.predict(X_test)

# Calculate evaluation metrics
rmse = np.sqrt(mean_squared_error(y_test, y_pred))
mae = mean_absolute_error(y_test, y_pred)
r2 = r2_score(y_test, y_pred)

# Print the results
print(f"Root Mean Squared Error (RMSE): {rmse}")
print(f"Mean Absolute Error (MAE): {mae}")
print(f"R-squared (R²): {r2}")



from sklearn.metrics import mean_squared_error, mean_absolute_error, r2_score
import numpy as np

# Make predictions on the test data
y_pred = model.predict(X_test)

# Calculate evaluation metrics
rmse = np.sqrt(mean_squared_error(y_test, y_pred))
mae = mean_absolute_error(y_test, y_pred)
r2 = r2_score(y_test, y_pred)

# Print the results
print(f"Root Mean Squared Error (RMSE): {rmse}")
print(f"Mean Absolute Error (MAE): {mae}")
print(f"R-squared (R²): {r2}")



import matplotlib.pyplot as plt

# Create a scatter plot
plt.scatter(y_test, y_pred)
plt.xlabel("Actual Meal Budget (INR)")
plt.ylabel("Predicted Meal Budget (INR)")
plt.title("Actual vs. Predicted Meal Budget")
plt.grid(True)
plt.show()



